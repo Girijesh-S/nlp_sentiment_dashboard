{
 "cells": [
  {
   "cell_type": "code",
   "execution_count": 3,
   "id": "aedf4d78-8869-48b2-a2fc-79e4b8557bd7",
   "metadata": {},
   "outputs": [
    {
     "name": "stdout",
     "output_type": "stream",
     "text": [
      "Predicted Sentiment: Positive\n",
      "Scores: {'Negative': 0.001995120896026492, 'Neutral': 0.005267768166959286, 'Positive': 0.9927371144294739}\n"
     ]
    }
   ],
   "source": [
    "# Step 1: Install required packages\n",
    "#!pip install transformers torch flask\n",
    "\n",
    "# Step 2: Load and test the RoBERTa sentiment model\n",
    "from transformers import AutoTokenizer, AutoModelForSequenceClassification\n",
    "from scipy.special import softmax\n",
    "import torch\n",
    "\n",
    "MODEL = \"cardiffnlp/twitter-roberta-base-sentiment\"\n",
    "tokenizer = AutoTokenizer.from_pretrained(MODEL)\n",
    "model = AutoModelForSequenceClassification.from_pretrained(MODEL)\n",
    "labels = ['Negative', 'Neutral', 'Positive']\n",
    "\n",
    "def analyze_sentiment(text):\n",
    "    encoded_input = tokenizer(\n",
    "        text,\n",
    "        return_tensors='pt',\n",
    "        truncation=True,\n",
    "        max_length=128,\n",
    "        padding='max_length'  # Optional: ensures consistent input shape\n",
    "    )\n",
    "    with torch.no_grad():\n",
    "        output = model(**encoded_input)\n",
    "    scores = output.logits[0].numpy()\n",
    "    probs = softmax(scores)\n",
    "    sentiment_result = {label: float(prob) for label, prob in zip(labels, probs)}\n",
    "    predicted_label = labels[probs.argmax()]\n",
    "    return predicted_label, sentiment_result\n",
    "\n",
    "\n",
    "# Test the function\n",
    "test_text = \"I love this product, it's so useful!\"\n",
    "label, scores = analyze_sentiment(test_text)\n",
    "print(\"Predicted Sentiment:\", label)\n",
    "print(\"Scores:\", scores)\n"
   ]
  },
  {
   "cell_type": "code",
   "execution_count": null,
   "id": "87e7cccb-eac8-4e4c-9eff-5815c80b1b89",
   "metadata": {},
   "outputs": [],
   "source": []
  }
 ],
 "metadata": {
  "kernelspec": {
   "display_name": "Python 3 (ipykernel)",
   "language": "python",
   "name": "python3"
  },
  "language_info": {
   "codemirror_mode": {
    "name": "ipython",
    "version": 3
   },
   "file_extension": ".py",
   "mimetype": "text/x-python",
   "name": "python",
   "nbconvert_exporter": "python",
   "pygments_lexer": "ipython3",
   "version": "3.12.3"
  }
 },
 "nbformat": 4,
 "nbformat_minor": 5
}
